{
  "nbformat": 4,
  "nbformat_minor": 0,
  "metadata": {
    "colab": {
      "name": "Untitled4.ipynb",
      "provenance": []
    },
    "kernelspec": {
      "name": "python3",
      "display_name": "Python 3"
    }
  },
  "cells": [
    {
      "cell_type": "code",
      "metadata": {
        "id": "FS0RGKNoesXU"
      },
      "source": [
        "# Example of loading Pima Indians CSV dataset\r\n",
        "from csv import reader\r\n"
      ],
      "execution_count": 3,
      "outputs": []
    },
    {
      "cell_type": "code",
      "metadata": {
        "id": "ObVJMdK7hi5Z"
      },
      "source": [
        "# Load a CSV file\r\n",
        "def load_csv(filename):\r\n",
        "  file = open(filename, \"r\")\r\n",
        "  lines = reader(file)\r\n",
        "  dataset = list(lines)\r\n",
        "  return dataset"
      ],
      "execution_count": 4,
      "outputs": []
    },
    {
      "cell_type": "code",
      "metadata": {
        "id": "UgoqVFRniBlj"
      },
      "source": [
        "# Load dataset\r\n",
        "filename = 'pima-indians-diabetes.csv'\r\n",
        "dataset = load_csv(filename)"
      ],
      "execution_count": 6,
      "outputs": []
    },
    {
      "cell_type": "code",
      "metadata": {
        "colab": {
          "base_uri": "https://localhost:8080/"
        },
        "id": "I5oZGq78iYpH",
        "outputId": "ebd97e18-0341-49fb-c03d-acbc9c6c02ae"
      },
      "source": [
        "dataset[0]"
      ],
      "execution_count": 8,
      "outputs": [
        {
          "output_type": "execute_result",
          "data": {
            "text/plain": [
              "['6', '148', '72', '35', '0', '33.6', '0.627', '50', '1']"
            ]
          },
          "metadata": {
            "tags": []
          },
          "execution_count": 8
        }
      ]
    },
    {
      "cell_type": "code",
      "metadata": {
        "colab": {
          "base_uri": "https://localhost:8080/"
        },
        "id": "dt7OWMq5if6R",
        "outputId": "2e58ff4a-592b-405d-dcc1-8d0bc1662795"
      },
      "source": [
        "len(dataset[0])"
      ],
      "execution_count": 9,
      "outputs": [
        {
          "output_type": "execute_result",
          "data": {
            "text/plain": [
              "9"
            ]
          },
          "metadata": {
            "tags": []
          },
          "execution_count": 9
        }
      ]
    },
    {
      "cell_type": "code",
      "metadata": {
        "colab": {
          "base_uri": "https://localhost:8080/"
        },
        "id": "lYLpR1WShoHV",
        "outputId": "71512a7b-5e93-4b54-c0be-a4314fafb488"
      },
      "source": [
        "print('Loaded data file {0} with {1} rows and {2} columns' .format(filename, len(dataset),len(dataset[0])))"
      ],
      "execution_count": 13,
      "outputs": [
        {
          "output_type": "stream",
          "text": [
            "Loaded data file pima-indians-diabetes.csv with 768 rows and 9 columns\n"
          ],
          "name": "stdout"
        }
      ]
    },
    {
      "cell_type": "code",
      "metadata": {
        "colab": {
          "base_uri": "https://localhost:8080/"
        },
        "id": "vns095USi_97",
        "outputId": "37911eb3-c9e7-4b57-bcb8-52c67c452edf"
      },
      "source": [
        "print(dataset[0])"
      ],
      "execution_count": 16,
      "outputs": [
        {
          "output_type": "stream",
          "text": [
            "['6', '148', '72', '35', '0', '33.6', '0.627', '50', '1']\n"
          ],
          "name": "stdout"
        }
      ]
    },
    {
      "cell_type": "code",
      "metadata": {
        "id": "OQmRBCNXm8C7"
      },
      "source": [
        ""
      ],
      "execution_count": null,
      "outputs": []
    }
  ]
}